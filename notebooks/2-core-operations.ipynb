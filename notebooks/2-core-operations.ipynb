{
 "cells": [
  {
   "cell_type": "code",
   "execution_count": 3,
   "metadata": {},
   "outputs": [],
   "source": [
    "import cv2"
   ]
  },
  {
   "cell_type": "code",
   "execution_count": 4,
   "metadata": {},
   "outputs": [],
   "source": [
    "def detectFace(Path):\n",
    "    raw_img = cv2.imread(Path, cv2.IMREAD_COLOR)\n",
    "    cropped_img = raw_img[302:(302+322), 261:(261+399)]\n",
    "    showImage(\"cropped image\", cropped_img)"
   ]
  },
  {
   "cell_type": "code",
   "execution_count": 5,
   "metadata": {},
   "outputs": [],
   "source": [
    "def readImage(Path, channel):\n",
    "    color = cv2.IMREAD_COLOR\n",
    "    if channel == \"grayscale\":\n",
    "        color = cv2.IMREAD_GRAYSCALE\n",
    "    elif channel == \"hsv\":\n",
    "        color = cv2.COLOR_BGR2HSV\n",
    "    return cv2.imread(Path, color)"
   ]
  },
  {
   "cell_type": "code",
   "execution_count": 6,
   "metadata": {},
   "outputs": [],
   "source": [
    "def selectROI(Path):\n",
    "    from_center = False\n",
    "    raw_img = readImage(Path, '')\n",
    "    region = cv2.selectROI(raw_img, from_center)\n",
    "    cv2.waitKey(0)\n",
    "    cv2.destroyAllWindows()\n",
    "    cropped = raw_img[region[1]:(region[1] + region[3]), region[0]:(region[0] + region[2])]\n",
    "    print(region)\n",
    "    showImage(\"Cropped_Image\", cropped)"
   ]
  },
  {
   "cell_type": "code",
   "execution_count": 7,
   "metadata": {},
   "outputs": [],
   "source": [
    "def showImage(Title, Image):\n",
    "    cv2.namedWindow(Title, cv2.WINDOW_NORMAL)\n",
    "    cv2.imshow(Title, Image)\n",
    "    cv2.waitKey(0)\n",
    "    cv2.destroyAllWindows()"
   ]
  },
  {
   "cell_type": "code",
   "execution_count": 8,
   "metadata": {},
   "outputs": [],
   "source": [
    "def convertChannel(Path, channel):\n",
    "    color = cv2.IMREAD_COLOR\n",
    "    raw_img = readImage(Path, '')\n",
    "    if channel == \"grayscale\":\n",
    "        color = cv2.COLOR_BGR2GRAY\n",
    "    elif channel == \"hsv\":\n",
    "        color = cv2.COLOR_BGR2HSV\n",
    "    elif channel == \"rgb\":\n",
    "        color = cv2.COLOR_BGR2RGB\n",
    "    converted_img = cv2.cvtColor(raw_img, color)\n",
    "    showImage(channel + \"_Image\",converted_img)\n",
    "        "
   ]
  },
  {
   "cell_type": "code",
   "execution_count": 9,
   "metadata": {},
   "outputs": [],
   "source": [
    "def saveImage(Title, Image, imageExt):\n",
    "    cv2.imwrite(Title + imageExt, Image)"
   ]
  },
  {
   "cell_type": "code",
   "execution_count": 10,
   "metadata": {},
   "outputs": [],
   "source": [
    "def addImages(arrayImage):\n",
    "    return"
   ]
  },
  {
   "cell_type": "code",
   "execution_count": null,
   "metadata": {},
   "outputs": [],
   "source": [
    "def filter():\n",
    "    "
   ]
  },
  {
   "cell_type": "code",
   "execution_count": 11,
   "metadata": {
    "scrolled": false
   },
   "outputs": [],
   "source": [
    "# selectROI('../assets/howie.png')\n",
    "# convertChannel('../assets/howie.png', '')"
   ]
  },
  {
   "cell_type": "code",
   "execution_count": 12,
   "metadata": {},
   "outputs": [],
   "source": [
    "bernie = readImage('../assets/bernie.jpg', '')\n",
    "howie = readImage('../assets/howie.png', '')\n",
    "luffy = readImage('../assets/monkey.jpg', '')\n",
    "sum = cv2.add(bernie, howie)\n",
    "blended = cv2.addWeighted(bernie, 0.8, howie, 0.2, 0)\n",
    "# showImage(\"Added Image\", blended)"
   ]
  },
  {
   "cell_type": "code",
   "execution_count": 13,
   "metadata": {},
   "outputs": [],
   "source": [
    "bigbang = readImage('../assets/accenture.png', '')\n",
    "bigbang = cv2.resize(bigbang, (int(bigbang.shape[1] * .5), int(bigbang.shape[0] * 0.5)))"
   ]
  },
  {
   "cell_type": "code",
   "execution_count": 14,
   "metadata": {},
   "outputs": [],
   "source": [
    "rows, cols, channels = bigbang.shape\n",
    "roi = luffy[0:rows, 0:cols]\n",
    "# showImage(\"maskImage\", roi)\n",
    "bigbang_gray = cv2.cvtColor(bigbang, cv2.COLOR_BGR2GRAY)\n",
    "\n",
    "ret, mask = cv2.threshold(bigbang_gray, 220, 255, cv2.THRESH_BINARY_INV)\n",
    "\n",
    "showImage(\"maskImage\", mask)"
   ]
  },
  {
   "cell_type": "code",
   "execution_count": 15,
   "metadata": {},
   "outputs": [],
   "source": [
    "mask_inv = cv2.bitwise_not(mask)\n",
    "showImage(\"inversedMaskImage\", mask_inv)"
   ]
  },
  {
   "cell_type": "code",
   "execution_count": 16,
   "metadata": {},
   "outputs": [],
   "source": [
    "bernie_bg = cv2.bitwise_and(roi, roi, mask=mask_inv)\n",
    "# showImage(\"bitwise_And\", bernie_bg)"
   ]
  },
  {
   "cell_type": "code",
   "execution_count": 27,
   "metadata": {},
   "outputs": [],
   "source": [
    "bigbang_fg = cv2.bitwise_and(bigbang, bigbang, mask=mask)\n",
    "# showImage(\"bitwise_And\", bigbang_fg)"
   ]
  },
  {
   "cell_type": "code",
   "execution_count": 28,
   "metadata": {},
   "outputs": [],
   "source": [
    "# dst = cv2.add(bigbang_fg, bernie_bg)\n",
    "# luffy[0:rows, 0:cols] = dst\n",
    "# showImage(\"final\", luffy)\n",
    "# saveImage(\"stamped_img\", luffy, '.jpg')"
   ]
  },
  {
   "cell_type": "code",
   "execution_count": 52,
   "metadata": {},
   "outputs": [],
   "source": [
    "def captureVideo():\n",
    "    cap = cv2.VideoCapture(0)\n",
    "    while True:\n",
    "        ret, frame = cap.read()\n",
    "        rows, cols, channels = bigbang.shape\n",
    "        roi = frame[0:rows, 0:cols]\n",
    "        bernie_bg = cv2.bitwise_and(roi, roi, mask=mask_inv)\n",
    "        dst = cv2.add(bigbang_fg, bernie_bg)\n",
    "        frame[0:rows, 0:cols] = dst\n",
    "        frame = cv2.bitwise_not(frame)\n",
    "        cv2.imshow('frame', frame)\n",
    "        if cv2.waitKey(1) == 27:\n",
    "            break;\n",
    "    cap.release()\n",
    "    cv2.destroyAllWindows()"
   ]
  },
  {
   "cell_type": "code",
   "execution_count": 53,
   "metadata": {},
   "outputs": [],
   "source": [
    "captureVideo()"
   ]
  },
  {
   "cell_type": "code",
   "execution_count": null,
   "metadata": {},
   "outputs": [],
   "source": []
  }
 ],
 "metadata": {
  "kernelspec": {
   "display_name": "Python 2",
   "language": "python",
   "name": "python2"
  },
  "language_info": {
   "codemirror_mode": {
    "name": "ipython",
    "version": 2
   },
   "file_extension": ".py",
   "mimetype": "text/x-python",
   "name": "python",
   "nbconvert_exporter": "python",
   "pygments_lexer": "ipython2",
   "version": "2.7.15"
  }
 },
 "nbformat": 4,
 "nbformat_minor": 2
}
