{
 "cells": [
  {
   "cell_type": "code",
   "execution_count": 1,
   "metadata": {},
   "outputs": [],
   "source": [
    "import cv2\n",
    "import numpy as np"
   ]
  },
  {
   "cell_type": "code",
   "execution_count": 2,
   "metadata": {},
   "outputs": [],
   "source": [
    "def readImage(Path):\n",
    "    return cv2.imread(Path, 0)"
   ]
  },
  {
   "cell_type": "code",
   "execution_count": 3,
   "metadata": {},
   "outputs": [],
   "source": [
    "def splitImage(Image, data):\n",
    "    _img = [np.hsplit(row, data[0]) for row in np.vsplit(Image, data[1])]\n",
    "    return np.array(_img, dtype=np.float32)"
   ]
  },
  {
   "cell_type": "code",
   "execution_count": 4,
   "metadata": {},
   "outputs": [],
   "source": [
    "def sliceImage(Image):\n",
    "    return Image[:, :50].reshape(-1, (20*20))"
   ]
  },
  {
   "cell_type": "code",
   "execution_count": 5,
   "metadata": {},
   "outputs": [],
   "source": [
    "def showImage(Title, Image):\n",
    "    cv2.namedWindow(Title, cv2.WINDOW_NORMAL)\n",
    "    cv2.imshow(Title, Image)\n",
    "    cv2.waitKey(0)\n",
    "    cv2.destroyAllWindows()"
   ]
  },
  {
   "cell_type": "markdown",
   "metadata": {},
   "source": [
    "# KNN using DIGITS DATASETS"
   ]
  },
  {
   "cell_type": "code",
   "execution_count": 59,
   "metadata": {},
   "outputs": [
    {
     "name": "stdout",
     "output_type": "stream",
     "text": [
      "91.64\n"
     ]
    }
   ],
   "source": [
    "mnist = readImage('../datasets/digits.png')\n",
    "splitted_img = splitImage(mnist, [100, 50])\n",
    "train_img = splitted_img[:, :50].reshape(-1, (20*20))\n",
    "test_img = splitted_img[:, 50:100].reshape(-1, (20*20))\n",
    "k = np.arange(10)\n",
    "train_labels =  np.repeat(k, 250).reshape(-1, 1)\n",
    "test_labels = train_labels.copy()\n",
    "\n",
    "knn = cv2.ml.KNearest_create()\n",
    "knn.train(train_img, cv2.ml.ROW_SAMPLE, train_labels)\n",
    "ret, result , neighbors, dist = knn.findNearest(test_img, 3)\n",
    "matches = np.equal(result, test_labels)\n",
    "\n",
    "matches = matches.astype(np.int)\n",
    "correct = np.count_nonzero(matches)\n",
    "\n",
    "accuracy = (correct * 100.00) / result.size\n",
    "\n",
    "print(accuracy)"
   ]
  },
  {
   "cell_type": "markdown",
   "metadata": {},
   "source": [
    "# KNN USING FASHION DATASETS"
   ]
  },
  {
   "cell_type": "code",
   "execution_count": 23,
   "metadata": {},
   "outputs": [
    {
     "name": "stdout",
     "output_type": "stream",
     "text": [
      "70.8888888889\n"
     ]
    }
   ],
   "source": [
    "mnist = readImage('../datasets/fashion.png')\n",
    "splitted_img = splitImage(mnist, [30, 30])\n",
    "train_img = splitted_img[:, :15].reshape(-1, (28*28))\n",
    "test_img = splitted_img[:, 15:30].reshape(-1, (28*28))\n",
    "k = np.arange(10)\n",
    "train_labels =  np.repeat(k, 45).reshape(-1, 1)\n",
    "test_labels = train_labels.copy()\n",
    "\n",
    "knn = cv2.ml.KNearest_create()\n",
    "knn.train(train_img, cv2.ml.ROW_SAMPLE, train_labels)\n",
    "ret, result , neighbors, dist = knn.findNearest(test_img, 3)\n",
    "matches = np.equal(result, test_labels)\n",
    "\n",
    "matches = matches.astype(np.int)\n",
    "correct = np.count_nonzero(matches)\n",
    "\n",
    "accuracy = (correct * 100.00) / result.size\n",
    "\n",
    "print(accuracy)"
   ]
  },
  {
   "cell_type": "markdown",
   "metadata": {},
   "source": [
    "# SVM for DIGITS DATASETS"
   ]
  },
  {
   "cell_type": "code",
   "execution_count": 28,
   "metadata": {},
   "outputs": [
    {
     "name": "stdout",
     "output_type": "stream",
     "text": [
      "90.44\n"
     ]
    }
   ],
   "source": [
    "mnist = readImage('../datasets/digits.png')\n",
    "splitted_img = splitImage(mnist, [100, 50])\n",
    "train_img = splitted_img[:, :50].reshape(-1, (20*20))\n",
    "test_img = splitted_img[:, 50:100].reshape(-1, (20*20))\n",
    "k = np.arange(10)\n",
    "train_labels =  np.repeat(k, 250).reshape(-1, 1)\n",
    "test_labels = train_labels.copy()\n",
    "\n",
    "model = cv2.ml.SVM_create()\n",
    "model.setKernel(cv2.ml.SVM_LINEAR)\n",
    "model.setC(2.67)\n",
    "model.setGamma(5.383)\n",
    "model.setType(cv2.ml.SVM_C_SVC)\n",
    "\n",
    "#Train\n",
    "model.train(train_img, cv2.ml.ROW_SAMPLE, train_labels)\n",
    "\n",
    "#USING TRAINED SVM\n",
    "result = model.predict(test_img)\n",
    "\n",
    "#Accuracy\n",
    "matches = np.equal(result[1], test_labels)\n",
    "matches = matches.astype(np.int)\n",
    "correct = np.count_nonzero(matches)\n",
    "accuracy = (correct * 100.00) / result[1].size\n",
    "\n",
    "print(accuracy)\n",
    "\n"
   ]
  },
  {
   "cell_type": "markdown",
   "metadata": {},
   "source": [
    "# SVM for FASHION DATASETS"
   ]
  },
  {
   "cell_type": "code",
   "execution_count": 30,
   "metadata": {},
   "outputs": [
    {
     "name": "stdout",
     "output_type": "stream",
     "text": [
      "74.6666666667\n"
     ]
    }
   ],
   "source": [
    "mnist = readImage('../datasets/fashion.png')\n",
    "splitted_img = splitImage(mnist, [30, 30])\n",
    "train_img = splitted_img[:, :15].reshape(-1, (28*28))\n",
    "test_img = splitted_img[:, 15:30].reshape(-1, (28*28))\n",
    "k = np.arange(10)\n",
    "train_labels =  np.repeat(k, 45).reshape(-1, 1)\n",
    "test_labels = train_labels.copy()\n",
    "\n",
    "model = cv2.ml.SVM_create()\n",
    "model.setKernel(cv2.ml.SVM_LINEAR)\n",
    "model.setC(2.67)\n",
    "model.setGamma(5.383)\n",
    "model.setType(cv2.ml.SVM_C_SVC)\n",
    "\n",
    "#Train\n",
    "model.train(train_img, cv2.ml.ROW_SAMPLE, train_labels)\n",
    "\n",
    "#USING TRAINED SVM\n",
    "result = model.predict(test_img)\n",
    "\n",
    "#Accuracy\n",
    "matches = np.equal(result[1], test_labels)\n",
    "matches = matches.astype(np.int)\n",
    "correct = np.count_nonzero(matches)\n",
    "accuracy = (correct * 100.00) / result[1].size\n",
    "\n",
    "print(accuracy)"
   ]
  },
  {
   "cell_type": "markdown",
   "metadata": {},
   "source": [
    "# MEAN NORMALIZATION ~ KNN DIGITS"
   ]
  },
  {
   "cell_type": "code",
   "execution_count": 31,
   "metadata": {},
   "outputs": [
    {
     "name": "stdout",
     "output_type": "stream",
     "text": [
      "79.24\n"
     ]
    }
   ],
   "source": [
    "mnist = readImage('../datasets/digits.png')\n",
    "splitted_img = splitImage(mnist, [100, 50])\n",
    "train_img = splitted_img[:, :50].reshape(-1, (20*20))\n",
    "test_img = splitted_img[:, 50:100].reshape(-1, (20*20))\n",
    "k = np.arange(10)\n",
    "train_labels =  np.repeat(k, 250).reshape(-1, 1)\n",
    "test_labels = train_labels.copy()\n",
    "\n",
    "\n",
    "train_img -= np.mean(train_img, axis=0)\n",
    "test_img -= np.mean(train_img, axis=0)\n",
    "\n",
    "\n",
    "knn = cv2.ml.KNearest_create()\n",
    "knn.train(train_img, cv2.ml.ROW_SAMPLE, train_labels)\n",
    "ret, result , neighbors, dist = knn.findNearest(test_img, 3)\n",
    "matches = np.equal(result, test_labels)\n",
    "\n",
    "matches = matches.astype(np.int)\n",
    "correct = np.count_nonzero(matches)\n",
    "\n",
    "accuracy = (correct * 100.00) / result.size\n",
    "\n",
    "print(accuracy)"
   ]
  },
  {
   "cell_type": "markdown",
   "metadata": {},
   "source": [
    "# MEAN NORMALIZATION ~ KNN FASHION"
   ]
  },
  {
   "cell_type": "code",
   "execution_count": 32,
   "metadata": {},
   "outputs": [
    {
     "name": "stdout",
     "output_type": "stream",
     "text": [
      "52.0\n"
     ]
    }
   ],
   "source": [
    "mnist = readImage('../datasets/fashion.png')\n",
    "splitted_img = splitImage(mnist, [30, 30])\n",
    "train_img = splitted_img[:, :15].reshape(-1, (28*28))\n",
    "test_img = splitted_img[:, 15:30].reshape(-1, (28*28))\n",
    "k = np.arange(10)\n",
    "train_labels =  np.repeat(k, 45).reshape(-1, 1)\n",
    "test_labels = train_labels.copy()\n",
    "\n",
    "\n",
    "\n",
    "train_img -= np.mean(train_img, axis=0)\n",
    "test_img -= np.mean(train_img, axis=0)\n",
    "\n",
    "\n",
    "\n",
    "knn = cv2.ml.KNearest_create()\n",
    "knn.train(train_img, cv2.ml.ROW_SAMPLE, train_labels)\n",
    "ret, result , neighbors, dist = knn.findNearest(test_img, 3)\n",
    "matches = np.equal(result, test_labels)\n",
    "\n",
    "matches = matches.astype(np.int)\n",
    "correct = np.count_nonzero(matches)\n",
    "\n",
    "accuracy = (correct * 100.00) / result.size\n",
    "\n",
    "print(accuracy)"
   ]
  },
  {
   "cell_type": "markdown",
   "metadata": {},
   "source": [
    "# MEAN NORMALIZATION ~ SVM DIGITS"
   ]
  },
  {
   "cell_type": "code",
   "execution_count": 33,
   "metadata": {},
   "outputs": [
    {
     "name": "stdout",
     "output_type": "stream",
     "text": [
      "66.8\n"
     ]
    }
   ],
   "source": [
    "mnist = readImage('../datasets/digits.png')\n",
    "splitted_img = splitImage(mnist, [100, 50])\n",
    "train_img = splitted_img[:, :50].reshape(-1, (20*20))\n",
    "test_img = splitted_img[:, 50:100].reshape(-1, (20*20))\n",
    "k = np.arange(10)\n",
    "train_labels =  np.repeat(k, 250).reshape(-1, 1)\n",
    "test_labels = train_labels.copy()\n",
    "\n",
    "\n",
    "\n",
    "train_img -= np.mean(train_img, axis=0)\n",
    "test_img -= np.mean(train_img, axis=0)\n",
    "\n",
    "\n",
    "\n",
    "model = cv2.ml.SVM_create()\n",
    "model.setKernel(cv2.ml.SVM_LINEAR)\n",
    "model.setC(2.67)\n",
    "model.setGamma(5.383)\n",
    "model.setType(cv2.ml.SVM_C_SVC)\n",
    "\n",
    "#Train\n",
    "model.train(train_img, cv2.ml.ROW_SAMPLE, train_labels)\n",
    "\n",
    "#USING TRAINED SVM\n",
    "result = model.predict(test_img)\n",
    "\n",
    "#Accuracy\n",
    "matches = np.equal(result[1], test_labels)\n",
    "matches = matches.astype(np.int)\n",
    "correct = np.count_nonzero(matches)\n",
    "accuracy = (correct * 100.00) / result[1].size\n",
    "\n",
    "print(accuracy)\n",
    "\n"
   ]
  },
  {
   "cell_type": "markdown",
   "metadata": {},
   "source": [
    "# MEAN NORMALIZATION ~ SVM FASHION"
   ]
  },
  {
   "cell_type": "code",
   "execution_count": 34,
   "metadata": {},
   "outputs": [
    {
     "name": "stdout",
     "output_type": "stream",
     "text": [
      "56.4444444444\n"
     ]
    }
   ],
   "source": [
    "mnist = readImage('../datasets/fashion.png')\n",
    "splitted_img = splitImage(mnist, [30, 30])\n",
    "train_img = splitted_img[:, :15].reshape(-1, (28*28))\n",
    "test_img = splitted_img[:, 15:30].reshape(-1, (28*28))\n",
    "k = np.arange(10)\n",
    "train_labels =  np.repeat(k, 45).reshape(-1, 1)\n",
    "test_labels = train_labels.copy()\n",
    "\n",
    "\n",
    "\n",
    "train_img -= np.mean(train_img, axis=0)\n",
    "test_img -= np.mean(train_img, axis=0)\n",
    "\n",
    "\n",
    "model = cv2.ml.SVM_create()\n",
    "model.setKernel(cv2.ml.SVM_LINEAR)\n",
    "model.setC(2.67)\n",
    "model.setGamma(5.383)\n",
    "model.setType(cv2.ml.SVM_C_SVC)\n",
    "\n",
    "#Train\n",
    "model.train(train_img, cv2.ml.ROW_SAMPLE, train_labels)\n",
    "\n",
    "#USING TRAINED SVM\n",
    "result = model.predict(test_img)\n",
    "\n",
    "#Accuracy\n",
    "matches = np.equal(result[1], test_labels)\n",
    "matches = matches.astype(np.int)\n",
    "correct = np.count_nonzero(matches)\n",
    "accuracy = (correct * 100.00) / result[1].size\n",
    "\n",
    "print(accuracy)"
   ]
  },
  {
   "cell_type": "markdown",
   "metadata": {},
   "source": [
    "# PCA"
   ]
  },
  {
   "cell_type": "code",
   "execution_count": 12,
   "metadata": {},
   "outputs": [],
   "source": [
    "from sklearn.decomposition import PCA\n",
    "import matplotlib.pyplot as plt"
   ]
  },
  {
   "cell_type": "code",
   "execution_count": 15,
   "metadata": {},
   "outputs": [
    {
     "data": {
      "image/png": "[encoded data removed]",
      "text/plain": [
       "<Figure size 432x288 with 1 Axes>"
      ]
     },
     "metadata": {},
     "output_type": "display_data"
    }
   ],
   "source": [
    "mnist = readImage('../datasets/digits.png')\n",
    "splitted_img = splitImage(mnist, [100, 50])\n",
    "train_img = splitted_img[:, :50].reshape(-1, (20*20))\n",
    "test_img = splitted_img[:, 50:100].reshape(-1, (20*20))\n",
    "pca = PCA(n_components=train_img.shape[1])\n",
    "pca.fit(train_img)\n",
    "\n",
    "plt.plot(np.cumsum(pca.explained_variance_ratio_))\n",
    "plt.xlabel('Number of components')\n",
    "plt.ylabel('Cumulative explained variance')\n",
    "plt.show()"
   ]
  },
  {
   "cell_type": "markdown",
   "metadata": {},
   "source": [
    "# PCA ~ KNN ~ DIGITS"
   ]
  },
  {
   "cell_type": "code",
   "execution_count": 65,
   "metadata": {},
   "outputs": [
    {
     "name": "stdout",
     "output_type": "stream",
     "text": [
      "92.24\n"
     ]
    }
   ],
   "source": [
    "mnist = readImage('../datasets/digits.png')\n",
    "splitted_img = splitImage(mnist, [100, 50])\n",
    "train_img = splitted_img[:, :50].reshape(-1, (20*20))\n",
    "test_img = splitted_img[:, 50:100].reshape(-1, (20*20))\n",
    "\n",
    "pca = PCA(n_components=100)\n",
    "\n",
    "pca.fit(train_img)\n",
    "\n",
    "train_img = pca.transform(train_img)\n",
    "test_img = pca.transform(test_img)\n",
    "\n",
    "k = np.arange(10)\n",
    "train_labels =  np.repeat(k, 250).reshape(-1, 1)\n",
    "test_labels = train_labels.copy()\n",
    "\n",
    "\n",
    "knn = cv2.ml.KNearest_create()\n",
    "knn.train(train_img, cv2.ml.ROW_SAMPLE, train_labels)\n",
    "ret, result , neighbors, dist = knn.findNearest(test_img, 3)\n",
    "matches = np.equal(result, test_labels)\n",
    "\n",
    "matches = matches.astype(np.int)\n",
    "correct = np.count_nonzero(matches)\n",
    "\n",
    "accuracy = (correct * 100.00) / result.size\n",
    "\n",
    "print(accuracy)"
   ]
  },
  {
   "cell_type": "markdown",
   "metadata": {},
   "source": [
    "# PCA ~ KNN ~ FASHION"
   ]
  },
  {
   "cell_type": "code",
   "execution_count": 66,
   "metadata": {},
   "outputs": [
    {
     "name": "stdout",
     "output_type": "stream",
     "text": [
      "70.2222222222\n"
     ]
    }
   ],
   "source": [
    "mnist = readImage('../datasets/fashion.png')\n",
    "splitted_img = splitImage(mnist, [30, 30])\n",
    "train_img = splitted_img[:, :15].reshape(-1, (28*28))\n",
    "test_img = splitted_img[:, 15:30].reshape(-1, (28*28))\n",
    "\n",
    "\n",
    "pca = PCA(n_components=100)\n",
    "\n",
    "pca.fit(train_img)\n",
    "\n",
    "train_img = pca.transform(train_img)\n",
    "test_img = pca.transform(test_img)\n",
    "\n",
    "\n",
    "k = np.arange(10)\n",
    "train_labels =  np.repeat(k, 45).reshape(-1, 1)\n",
    "test_labels = train_labels.copy()\n",
    "\n",
    "knn = cv2.ml.KNearest_create()\n",
    "knn.train(train_img, cv2.ml.ROW_SAMPLE, train_labels)\n",
    "ret, result , neighbors, dist = knn.findNearest(test_img, 3)\n",
    "matches = np.equal(result, test_labels)\n",
    "\n",
    "matches = matches.astype(np.int)\n",
    "correct = np.count_nonzero(matches)\n",
    "\n",
    "accuracy = (correct * 100.00) / result.size\n",
    "\n",
    "print(accuracy)"
   ]
  },
  {
   "cell_type": "markdown",
   "metadata": {},
   "source": [
    "# PCA ~ SVM ~ DIGITS"
   ]
  },
  {
   "cell_type": "code",
   "execution_count": 67,
   "metadata": {},
   "outputs": [
    {
     "name": "stdout",
     "output_type": "stream",
     "text": [
      "89.48\n"
     ]
    }
   ],
   "source": [
    "mnist = readImage('../datasets/digits.png')\n",
    "splitted_img = splitImage(mnist, [100, 50])\n",
    "train_img = splitted_img[:, :50].reshape(-1, (20*20))\n",
    "test_img = splitted_img[:, 50:100].reshape(-1, (20*20))\n",
    "\n",
    "\n",
    "pca = PCA(n_components=100)\n",
    "\n",
    "pca.fit(train_img)\n",
    "\n",
    "train_img = pca.transform(train_img)\n",
    "test_img = pca.transform(test_img)\n",
    "\n",
    "k = np.arange(10)\n",
    "train_labels =  np.repeat(k, 250).reshape(-1, 1)\n",
    "test_labels = train_labels.copy()\n",
    "\n",
    "model = cv2.ml.SVM_create()\n",
    "model.setKernel(cv2.ml.SVM_LINEAR)\n",
    "model.setC(2.67)\n",
    "model.setGamma(5.383)\n",
    "model.setType(cv2.ml.SVM_C_SVC)\n",
    "\n",
    "#Train\n",
    "model.train(train_img, cv2.ml.ROW_SAMPLE, train_labels)\n",
    "\n",
    "#USING TRAINED SVM\n",
    "result = model.predict(test_img)\n",
    "\n",
    "#Accuracy\n",
    "matches = np.equal(result[1], test_labels)\n",
    "matches = matches.astype(np.int)\n",
    "correct = np.count_nonzero(matches)\n",
    "accuracy = (correct * 100.00) / result[1].size\n",
    "\n",
    "print(accuracy)\n",
    "\n"
   ]
  },
  {
   "cell_type": "markdown",
   "metadata": {},
   "source": [
    "# PCA ~ SVM ~ FASHION"
   ]
  },
  {
   "cell_type": "code",
   "execution_count": 68,
   "metadata": {},
   "outputs": [
    {
     "name": "stdout",
     "output_type": "stream",
     "text": [
      "72.6666666667\n"
     ]
    }
   ],
   "source": [
    "mnist = readImage('../datasets/fashion.png')\n",
    "splitted_img = splitImage(mnist, [30, 30])\n",
    "train_img = splitted_img[:, :15].reshape(-1, (28*28))\n",
    "test_img = splitted_img[:, 15:30].reshape(-1, (28*28))\n",
    "\n",
    "\n",
    "pca = PCA(n_components=100)\n",
    "\n",
    "pca.fit(train_img)\n",
    "\n",
    "train_img = pca.transform(train_img)\n",
    "test_img = pca.transform(test_img)\n",
    "\n",
    "\n",
    "k = np.arange(10)\n",
    "train_labels =  np.repeat(k, 45).reshape(-1, 1)\n",
    "test_labels = train_labels.copy()\n",
    "\n",
    "model = cv2.ml.SVM_create()\n",
    "model.setKernel(cv2.ml.SVM_LINEAR)\n",
    "model.setC(2.67)\n",
    "model.setGamma(5.383)\n",
    "model.setType(cv2.ml.SVM_C_SVC)\n",
    "\n",
    "#Train\n",
    "model.train(train_img, cv2.ml.ROW_SAMPLE, train_labels)\n",
    "\n",
    "#USING TRAINED SVM\n",
    "result = model.predict(test_img)\n",
    "\n",
    "#Accuracy\n",
    "matches = np.equal(result[1], test_labels)\n",
    "matches = matches.astype(np.int)\n",
    "correct = np.count_nonzero(matches)\n",
    "accuracy = (correct * 100.00) / result[1].size\n",
    "\n",
    "print(accuracy)"
   ]
  },
  {
   "cell_type": "code",
   "execution_count": null,
   "metadata": {},
   "outputs": [],
   "source": []
  }
 ],
 "metadata": {
  "kernelspec": {
   "display_name": "Python 2",
   "language": "python",
   "name": "python2"
  },
  "language_info": {
   "codemirror_mode": {
    "name": "ipython",
    "version": 2
   },
   "file_extension": ".py",
   "mimetype": "text/x-python",
   "name": "python",
   "nbconvert_exporter": "python",
   "pygments_lexer": "ipython2",
   "version": "2.7.15"
  }
 },
 "nbformat": 4,
 "nbformat_minor": 2
}
